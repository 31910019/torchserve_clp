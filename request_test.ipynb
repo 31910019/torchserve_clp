{
 "cells": [
  {
   "cell_type": "code",
   "execution_count": 2,
   "metadata": {},
   "outputs": [
    {
     "name": "stdout",
     "output_type": "stream",
     "text": [
      "API request failed with status code: 503\n"
     ]
    }
   ],
   "source": [
    "# requirest测试\n",
    "\n",
    "import json\n",
    "import numpy as np\n",
    "list_data = np.random.randn(1,480).tolist()\n",
    "# json_data = json.dumps(list_data)\n",
    "\n",
    "import requests\n",
    "\n",
    "# 请求数据和 API 路径\n",
    "data = {\"input\": list_data[0]}\n",
    "url = \"http://0.0.0.0:8090/predictions/BERT4NILM\"\n",
    "json_data = json.dumps(data)\n",
    "\n",
    "# 发送 POST 请求到 TorchServe 的 API 路径\n",
    "response = requests.post(url, json=json_data)\n",
    "\n",
    "# 处理响应\n",
    "if response.status_code == 200:\n",
    "    result = response.json()\n",
    "    # 处理结果\n",
    "    print(result)\n",
    "else:\n",
    "    print(\"API request failed with status code:\", response.status_code)"
   ]
  },
  {
   "cell_type": "code",
   "execution_count": null,
   "metadata": {},
   "outputs": [],
   "source": []
  }
 ],
 "metadata": {
  "kernelspec": {
   "display_name": "base",
   "language": "python",
   "name": "python3"
  },
  "language_info": {
   "codemirror_mode": {
    "name": "ipython",
    "version": 3
   },
   "file_extension": ".py",
   "mimetype": "text/x-python",
   "name": "python",
   "nbconvert_exporter": "python",
   "pygments_lexer": "ipython3",
   "version": "3.9.12"
  }
 },
 "nbformat": 4,
 "nbformat_minor": 2
}
